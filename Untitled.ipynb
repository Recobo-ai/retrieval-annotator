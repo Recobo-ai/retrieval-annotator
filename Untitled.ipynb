{
 "cells": [
  {
   "cell_type": "code",
   "execution_count": null,
   "metadata": {},
   "outputs": [],
   "source": [
    "import pandas as pd\n",
    "import uuid"
   ]
  },
  {
   "cell_type": "code",
   "execution_count": null,
   "metadata": {},
   "outputs": [],
   "source": [
    "df = pd.read_csv('generated_queries_paragraphs.csv')"
   ]
  },
  {
   "cell_type": "code",
   "execution_count": null,
   "metadata": {},
   "outputs": [],
   "source": [
    "ids = []\n",
    "for idx in range(len(df)):\n",
    "    ids.append(str(uuid.uuid4()))\n",
    "df['question_id'] = ids\n",
    "df['answer'] = \" \"\n"
   ]
  },
  {
   "cell_type": "code",
   "execution_count": null,
   "metadata": {},
   "outputs": [],
   "source": [
    "df"
   ]
  },
  {
   "cell_type": "code",
   "execution_count": null,
   "metadata": {},
   "outputs": [],
   "source": [
    "#df[:74000].to_csv('generated_queries_anusha.csv', index=False, encoding='utf-8-sig')\n",
    "#df[74000:148000].to_csv('generated_queries_praveena.csv', index=False, encoding='utf-8-sig')\n",
    "#df[148000:222000].to_csv('generated_queries_emerson.csv', index=False, encoding='utf-8-sig')"
   ]
  },
  {
   "cell_type": "code",
   "execution_count": null,
   "metadata": {},
   "outputs": [],
   "source": [
    "df.to_csv('generated_queries_with_id.csv', index=False, encoding='utf-8-sig')"
   ]
  },
  {
   "cell_type": "code",
   "execution_count": null,
   "metadata": {},
   "outputs": [],
   "source": [
    "import pandas as pd\n",
    "import glob\n",
    "\n",
    "\n",
    "all_files = [\"generated_queries_Anusha.csv\",\"generated_queries_Praveena.csv\", \"generated_queries_emerson.csv\" ]\n",
    "\n",
    "li = []\n",
    "\n",
    "for filename in all_files:\n",
    "    df = pd.read_csv(filename, index_col=None, header=0)\n",
    "    annotator_name = filename.split('_')[-1].split('.')[0]\n",
    "    df['annotator_name'] = annotator_name\n",
    "    li.append(df)\n",
    "\n",
    "frame = pd.concat(li, axis=0, ignore_index=True)\n",
    "frame.annotator_name.value_counts()"
   ]
  },
  {
   "cell_type": "code",
   "execution_count": 1,
   "metadata": {},
   "outputs": [],
   "source": [
    "import pymongo\n",
    "import os\n",
    "\n"
   ]
  },
  {
   "cell_type": "code",
   "execution_count": 2,
   "metadata": {},
   "outputs": [],
   "source": [
    "class MongoAnnotation:\n",
    "    def __init__(self, credentials, mongo_config):\n",
    "        self.get_mongo_client(mongo_config, credentials)\n",
    "        \n",
    "    def get_mongo_client(self, config, credentials):\n",
    "        mongo_collection = None\n",
    "        mongo_client = pymongo.MongoClient(config['mongo_connect_url'].format(credentials['mongo_username'], \n",
    "                                                                        credentials['mongo_password'], \n",
    "                                                                              config['mongo_db']))\n",
    "        mongo_db = mongo_client[config['mongo_db']]\n",
    "        mongo_collection = mongo_db[config['mongo_collection']]\n",
    "        try:\n",
    "            mongo_client = pymongo.MongoClient(config['mongo_connect_url'].format(credentials['mongo_username'], credentials['mongo_password'], config['mongo_db']))\n",
    "            mongo_db = mongo_client[config['mongo_db']]\n",
    "            mongo_collection = mongo_db[config['mongo_collection']]\n",
    "            print('connected...')\n",
    "        except:\n",
    "            print('erorr.')\n",
    "\n",
    "        self.mongo_collection = mongo_collection\n",
    "    \n",
    "    def write_to_mongo(self, data):\n",
    "        \"\"\"\"\n",
    "        dump content to mongo\n",
    "        \"\"\"\n",
    "        response = None\n",
    "        try:\n",
    "            response = self.mongo_collection.insert_one(data)\n",
    "            #print('des inserted...')\n",
    "            #print(str(response.inserted_id))\n",
    "        except Exception as e:\n",
    "            print(e)\n",
    "        return response\n",
    "    def get_page_number(self, annotator_name, annotator, col):\n",
    "        \"\"\"\n",
    "        Get page number for the annotator\n",
    "        \"\"\"\n",
    "        response = 0\n",
    "        try:\n",
    "            response = self.mongo_collection.find_one(\n",
    "                sort=[(col, pymongo.DESCENDING)],\n",
    "                filter={annotator: annotator_name},\n",
    "            )[col]\n",
    "        except Exception as e:\n",
    "            print(e)\n",
    "            print(\"error while getting page number\")\n",
    "        return response\n"
   ]
  },
  {
   "cell_type": "code",
   "execution_count": 3,
   "metadata": {},
   "outputs": [],
   "source": [
    "## mongo credentials from environment variables\n",
    "credentials = {\n",
    "'mongo_username': 'shahrukhx01',\n",
    "'mongo_password': 'linkedinnal3t1cs'\n",
    "}\n",
    "\n",
    "mongo_db_config = {\n",
    "\"mongo_connect_url\": \"mongodb+srv://{}:{}@cluster0.lhdpw.mongodb.net/{}?retryWrites=true&w=majority\",\n",
    "\"mongo_db\": \"chemical_domain_annotations\",\n",
    "\"mongo_collection\": \"questions\"\n",
    "}"
   ]
  },
  {
   "cell_type": "code",
   "execution_count": 4,
   "metadata": {},
   "outputs": [
    {
     "name": "stdout",
     "output_type": "stream",
     "text": [
      "connected...\n"
     ]
    }
   ],
   "source": [
    "mongo_annotation_manager = MongoAnnotation(credentials, mongo_db_config)"
   ]
  },
  {
   "cell_type": "code",
   "execution_count": null,
   "metadata": {},
   "outputs": [],
   "source": [
    "\"\"\"from tqdm import tqdm\n",
    "for idx,row in tqdm(frame.iterrows()):\n",
    "    row_data = dict(row)\n",
    "    row_data['row_num'] = idx\n",
    "    row_data['_id'] = row_data['question_id']\n",
    "    \n",
    "    mongo_annotation_manager.write_to_mongo(row_data)\"\"\""
   ]
  },
  {
   "cell_type": "code",
   "execution_count": 13,
   "metadata": {},
   "outputs": [
    {
     "data": {
      "text/plain": [
       "'\\ndata = pd.DataFrame(documents, columns=documents[0].keys())\\nlen(data)#.annotator_name.value_counts()'"
      ]
     },
     "execution_count": 13,
     "metadata": {},
     "output_type": "execute_result"
    }
   ],
   "source": [
    "results = mongo_annotation_manager.mongo_collection.find({})\n",
    "\"\"\"\n",
    "data = pd.DataFrame(documents, columns=documents[0].keys())\n",
    "len(data)#.annotator_name.value_counts()\"\"\""
   ]
  },
  {
   "cell_type": "code",
   "execution_count": 34,
   "metadata": {},
   "outputs": [
    {
     "data": {
      "text/plain": [
       "[{'_id': '4f5bb3b0-e7d8-428a-bdea-6811d5930b7f',\n",
       "  'question': 'what is led',\n",
       "  'context': 'Light-emitting diodes (LEDs) are a common solid-state light source. High-brightness LEDs (HBLEDs) are often limited by the relatively low light extraction efficiency due to the mismatch of the refractive indices between the LED material (GaN, n=2.5) and the organic encapsulant (epoxy or silicone, n=1.5). Higher light outputs can be achieved by using an HRIP as the encapsulant.',\n",
       "  'question_id': '4f5bb3b0-e7d8-428a-bdea-6811d5930b7f',\n",
       "  'answer': ' ',\n",
       "  'annotator_name': 'emerson',\n",
       "  'row_num': 148003},\n",
       " {'_id': 'ada65d10-25ab-4209-b193-1dbc080e3e57',\n",
       "  'question': 'define selenide chemistry',\n",
       "  'context': 'Selenium, especially in the II oxidation state, forms stable bonds to carbon, which are structurally analogous to the corresponding organosulfur compounds. Especially common are selenides (R2Se, analogues of thioethers), diselenides (R2Se2, analogues of disulfides), and selenols (RSeH, analogues of thiols). Representatives of selenides, diselenides, and selenols include respectively selenomethionine, diphenyldiselenide, and benzeneselenol. The sulfoxide in sulfur chemistry is represented in selenium chemistry by the selenoxides (formula RSe(O)R), which are intermediates in organic synthesis, as illustrated by the selenoxide elimination reaction. Consistent with trends indicated by the double bond rule, selenoketones, R(C=Se)R, and selenaldehydes, R(C=Se)H, are rarely observed.',\n",
       "  'question_id': 'ada65d10-25ab-4209-b193-1dbc080e3e57',\n",
       "  'answer': ' ',\n",
       "  'annotator_name': 'emerson',\n",
       "  'row_num': 148004}]"
      ]
     },
     "execution_count": 34,
     "metadata": {},
     "output_type": "execute_result"
    }
   ],
   "source": [
    "from tqdm import tqdm\n",
    "results = mongo_annotation_manager.mongo_collection.find({\"annotator_name\":\"emerson\"})\n",
    "data = list(results[3:5])\n",
    "data"
   ]
  },
  {
   "cell_type": "code",
   "execution_count": null,
   "metadata": {},
   "outputs": [],
   "source": [
    "len(documents)"
   ]
  },
  {
   "cell_type": "code",
   "execution_count": null,
   "metadata": {},
   "outputs": [],
   "source": []
  }
 ],
 "metadata": {
  "kernelspec": {
   "display_name": "Python 3",
   "language": "python",
   "name": "python3"
  },
  "language_info": {
   "codemirror_mode": {
    "name": "ipython",
    "version": 3
   },
   "file_extension": ".py",
   "mimetype": "text/x-python",
   "name": "python",
   "nbconvert_exporter": "python",
   "pygments_lexer": "ipython3",
   "version": "3.8.5"
  }
 },
 "nbformat": 4,
 "nbformat_minor": 4
}
