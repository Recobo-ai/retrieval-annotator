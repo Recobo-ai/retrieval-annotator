{
 "cells": [
  {
   "cell_type": "code",
   "execution_count": 18,
   "metadata": {},
   "outputs": [],
   "source": [
    "import pandas as pd\n",
    "import uuid"
   ]
  },
  {
   "cell_type": "code",
   "execution_count": 19,
   "metadata": {},
   "outputs": [],
   "source": [
    "df = pd.read_csv('generated_queries_paragraphs.csv')"
   ]
  },
  {
   "cell_type": "code",
   "execution_count": 23,
   "metadata": {},
   "outputs": [],
   "source": [
    "ids = []\n",
    "for idx in range(len(df)):\n",
    "    ids.append(str(uuid.uuid4()))\n",
    "df['question_id'] = ids\n",
    "df['answer'] = \" \"\n"
   ]
  },
  {
   "cell_type": "code",
   "execution_count": 24,
   "metadata": {},
   "outputs": [
    {
     "data": {
      "text/html": [
       "<div>\n",
       "<style scoped>\n",
       "    .dataframe tbody tr th:only-of-type {\n",
       "        vertical-align: middle;\n",
       "    }\n",
       "\n",
       "    .dataframe tbody tr th {\n",
       "        vertical-align: top;\n",
       "    }\n",
       "\n",
       "    .dataframe thead th {\n",
       "        text-align: right;\n",
       "    }\n",
       "</style>\n",
       "<table border=\"1\" class=\"dataframe\">\n",
       "  <thead>\n",
       "    <tr style=\"text-align: right;\">\n",
       "      <th></th>\n",
       "      <th>question</th>\n",
       "      <th>context</th>\n",
       "      <th>question_id</th>\n",
       "      <th>answer</th>\n",
       "    </tr>\n",
       "  </thead>\n",
       "  <tbody>\n",
       "    <tr>\n",
       "      <th>0</th>\n",
       "      <td>what does miti mean?</td>\n",
       "      <td>0 % BOD of the ThOD (28 d) (OECD Guideline 302...</td>\n",
       "      <td>c6c55bc2-745b-4e58-934d-de17d4c96440</td>\n",
       "      <td></td>\n",
       "    </tr>\n",
       "    <tr>\n",
       "      <th>1</th>\n",
       "      <td>what is thod inoculum</td>\n",
       "      <td>0 % BOD of the ThOD (28 d) (OECD Guideline 302...</td>\n",
       "      <td>20983a56-ddf8-44c6-8496-ff2e28c9c6cb</td>\n",
       "      <td></td>\n",
       "    </tr>\n",
       "    <tr>\n",
       "      <th>2</th>\n",
       "      <td>what product reacts with humidity</td>\n",
       "      <td>Avoid dust formation. The Cement contained in ...</td>\n",
       "      <td>6c0dd8e0-8b21-4731-bbba-6a7d77ae701e</td>\n",
       "      <td></td>\n",
       "    </tr>\n",
       "    <tr>\n",
       "      <th>3</th>\n",
       "      <td>does cement react to humidity</td>\n",
       "      <td>Avoid dust formation. The Cement contained in ...</td>\n",
       "      <td>a4f82d5d-40a9-438d-ac55-691a08ed4a30</td>\n",
       "      <td></td>\n",
       "    </tr>\n",
       "    <tr>\n",
       "      <th>4</th>\n",
       "      <td>what type of rubber is efka® pl 5651</td>\n",
       "      <td>Efka® PL 5651 is a highly compatible plasticiz...</td>\n",
       "      <td>b8813cc0-3be2-4785-b800-20fac9e24aae</td>\n",
       "      <td></td>\n",
       "    </tr>\n",
       "    <tr>\n",
       "      <th>...</th>\n",
       "      <td>...</td>\n",
       "      <td>...</td>\n",
       "      <td>...</td>\n",
       "      <td>...</td>\n",
       "    </tr>\n",
       "    <tr>\n",
       "      <th>222823</th>\n",
       "      <td>what is the sds gen id for linalool</td>\n",
       "      <td>(30420093/SDS_GEN_ID/EN) Date of print 10.07.2...</td>\n",
       "      <td>9bbd0ff6-5ff0-45d1-98d9-5d063bb395d9</td>\n",
       "      <td></td>\n",
       "    </tr>\n",
       "    <tr>\n",
       "      <th>222824</th>\n",
       "      <td>what is the rangle in displaystyle</td>\n",
       "      <td>{\\displaystyle \\langle {\\hat {\\vec {E}}}^{(-)}...</td>\n",
       "      <td>35952989-7c1b-4085-a643-cf642831ca91</td>\n",
       "      <td></td>\n",
       "    </tr>\n",
       "    <tr>\n",
       "      <th>222825</th>\n",
       "      <td>epsilon how to display</td>\n",
       "      <td>{\\displaystyle \\langle {\\hat {\\vec {E}}}^{(-)}...</td>\n",
       "      <td>8507b7dd-2627-4278-9d48-3be904d75025</td>\n",
       "      <td></td>\n",
       "    </tr>\n",
       "    <tr>\n",
       "      <th>222826</th>\n",
       "      <td>where can you find enclosed clothes for gas</td>\n",
       "      <td>Handle in accordance with good industrial hygi...</td>\n",
       "      <td>e46d87e8-041e-4cda-9fc4-2c46d2b87b72</td>\n",
       "      <td></td>\n",
       "    </tr>\n",
       "    <tr>\n",
       "      <th>222827</th>\n",
       "      <td>what are the safety precautions</td>\n",
       "      <td>Handle in accordance with good industrial hygi...</td>\n",
       "      <td>bf7180bf-e471-43e7-9200-de3b7ac0f1d5</td>\n",
       "      <td></td>\n",
       "    </tr>\n",
       "  </tbody>\n",
       "</table>\n",
       "<p>222828 rows × 4 columns</p>\n",
       "</div>"
      ],
      "text/plain": [
       "                                           question  \\\n",
       "0                              what does miti mean?   \n",
       "1                             what is thod inoculum   \n",
       "2                 what product reacts with humidity   \n",
       "3                     does cement react to humidity   \n",
       "4              what type of rubber is efka® pl 5651   \n",
       "...                                             ...   \n",
       "222823          what is the sds gen id for linalool   \n",
       "222824           what is the rangle in displaystyle   \n",
       "222825                       epsilon how to display   \n",
       "222826  where can you find enclosed clothes for gas   \n",
       "222827              what are the safety precautions   \n",
       "\n",
       "                                                  context  \\\n",
       "0       0 % BOD of the ThOD (28 d) (OECD Guideline 302...   \n",
       "1       0 % BOD of the ThOD (28 d) (OECD Guideline 302...   \n",
       "2       Avoid dust formation. The Cement contained in ...   \n",
       "3       Avoid dust formation. The Cement contained in ...   \n",
       "4       Efka® PL 5651 is a highly compatible plasticiz...   \n",
       "...                                                   ...   \n",
       "222823  (30420093/SDS_GEN_ID/EN) Date of print 10.07.2...   \n",
       "222824  {\\displaystyle \\langle {\\hat {\\vec {E}}}^{(-)}...   \n",
       "222825  {\\displaystyle \\langle {\\hat {\\vec {E}}}^{(-)}...   \n",
       "222826  Handle in accordance with good industrial hygi...   \n",
       "222827  Handle in accordance with good industrial hygi...   \n",
       "\n",
       "                                 question_id answer  \n",
       "0       c6c55bc2-745b-4e58-934d-de17d4c96440         \n",
       "1       20983a56-ddf8-44c6-8496-ff2e28c9c6cb         \n",
       "2       6c0dd8e0-8b21-4731-bbba-6a7d77ae701e         \n",
       "3       a4f82d5d-40a9-438d-ac55-691a08ed4a30         \n",
       "4       b8813cc0-3be2-4785-b800-20fac9e24aae         \n",
       "...                                      ...    ...  \n",
       "222823  9bbd0ff6-5ff0-45d1-98d9-5d063bb395d9         \n",
       "222824  35952989-7c1b-4085-a643-cf642831ca91         \n",
       "222825  8507b7dd-2627-4278-9d48-3be904d75025         \n",
       "222826  e46d87e8-041e-4cda-9fc4-2c46d2b87b72         \n",
       "222827  bf7180bf-e471-43e7-9200-de3b7ac0f1d5         \n",
       "\n",
       "[222828 rows x 4 columns]"
      ]
     },
     "execution_count": 24,
     "metadata": {},
     "output_type": "execute_result"
    }
   ],
   "source": [
    "df"
   ]
  },
  {
   "cell_type": "code",
   "execution_count": 25,
   "metadata": {},
   "outputs": [],
   "source": [
    "df[:74000].to_csv('generated_queries_anusha.csv', index=False, encoding='utf-8-sig')\n",
    "df[74000:148000].to_csv('generated_queries_praveena.csv', index=False, encoding='utf-8-sig')\n",
    "df[148000:222000].to_csv('generated_queries_emerson.csv', index=False, encoding='utf-8-sig')"
   ]
  },
  {
   "cell_type": "code",
   "execution_count": 9,
   "metadata": {},
   "outputs": [],
   "source": [
    "df.to_csv('generated_queries_with_id.csv', index=False, encoding='utf-8-sig')"
   ]
  },
  {
   "cell_type": "code",
   "execution_count": 1,
   "metadata": {},
   "outputs": [],
   "source": []
  },
  {
   "cell_type": "code",
   "execution_count": 3,
   "metadata": {},
   "outputs": [],
   "source": [
    "import pymongo\n",
    "import os\n",
    "\n"
   ]
  },
  {
   "cell_type": "code",
   "execution_count": 14,
   "metadata": {},
   "outputs": [],
   "source": [
    "class MongoAnnotation:\n",
    "    def __init__(self, credentials, mongo_config):\n",
    "        self.get_mongo_client(mongo_config, credentials)\n",
    "        \n",
    "    def get_mongo_client(self, config, credentials):\n",
    "        mongo_collection = None\n",
    "        mongo_client = pymongo.MongoClient(config['mongo_connect_url'].format(credentials['mongo_username'], \n",
    "                                                                        credentials['mongo_password'], \n",
    "                                                                              config['mongo_db']))\n",
    "        mongo_db = mongo_client[config['mongo_db']]\n",
    "        mongo_collection = mongo_db[config['mongo_collection']]\n",
    "        try:\n",
    "            mongo_client = pymongo.MongoClient(config['mongo_connect_url'].format(credentials['mongo_username'], credentials['mongo_password'], config['mongo_db']))\n",
    "            mongo_db = mongo_client[config['mongo_db']]\n",
    "            mongo_collection = mongo_db[config['mongo_collection']]\n",
    "            print('connected...')\n",
    "        except:\n",
    "            print('erorr.')\n",
    "\n",
    "        self.mongo_collection = mongo_collection\n",
    "    \n",
    "    def write_to_mongo(self, data):\n",
    "        \"\"\"\"\n",
    "        dump content to mongo\n",
    "        \"\"\"\n",
    "        response = None\n",
    "        try:\n",
    "            response = self.mongo_collection.insert_one(data)\n",
    "            print('des inserted...')\n",
    "            print(str(response.inserted_id))\n",
    "        except Exception as e:\n",
    "            print(e)\n",
    "        return response\n",
    "\n"
   ]
  },
  {
   "cell_type": "code",
   "execution_count": 15,
   "metadata": {},
   "outputs": [],
   "source": [
    "## mongo credentials from environment variables\n",
    "credentials = {\n",
    "'mongo_username': os.environ['MONGO_USERNAME'],\n",
    "'mongo_password': os.environ['MONGO_PASSWORD']\n",
    "}\n",
    "\n",
    "mongo_db_config = {\n",
    "\"mongo_connect_url\": \"mongodb+srv://{}:{}@cluster0.lhdpw.mongodb.net/{}?retryWrites=true&w=majority\",\n",
    "\"mongo_db\": \"chemical_domain_annotations\",\n",
    "\"mongo_collection\": \"chemical_domain_annotations\"\n",
    "}"
   ]
  },
  {
   "cell_type": "code",
   "execution_count": 17,
   "metadata": {},
   "outputs": [
    {
     "name": "stdout",
     "output_type": "stream",
     "text": [
      "connected...\n"
     ]
    }
   ],
   "source": [
    "mongo_annotation_manager = MongoAnnotation(credentials, mongo_db_config)"
   ]
  },
  {
   "cell_type": "code",
   "execution_count": 20,
   "metadata": {},
   "outputs": [
    {
     "name": "stdout",
     "output_type": "stream",
     "text": [
      "des inserted...\n",
      "28885a88-9174-49f0-befd-045be1fbd0fe\n",
      "des inserted...\n",
      "871e0936-7a76-46c0-bd36-6f999d5f48b2\n"
     ]
    }
   ],
   "source": [
    "for x in [\n",
    "  {\n",
    "    \"_id\": \"28885a88-9174-49f0-befd-045be1fbd0fe\",\n",
    "    \"question\": \"what are the ureas?\",\n",
    "    \"context\": \"R2NC(O)N(H)R' + R\\\"NCO   →  R2NC(O)NR'C(O)NHR\\\"Unsymmetrical ureas are generated by condensation of isocyanates with amines:\",\n",
    "    \"annotator\": \"Shahrukh Khan\"\n",
    "  },\n",
    "  {\n",
    "    \"_id\": \"871e0936-7a76-46c0-bd36-6f999d5f48b2\",\n",
    "    \"question\": \"unsymmetrical ureas are generated by condensation of\",\n",
    "    \"context\": \"R2NC(O)N(H)R' + R\\\"NCO   →  R2NC(O)NR'C(O)NHR\\\"Unsymmetrical ureas are generated by condensation of isocyanates with amines:\",\n",
    "    \"annotator\": \"Shahrukh Khan\"\n",
    "  }\n",
    "]:\n",
    "    mongo_annotation_manager.write_to_mongo(x)"
   ]
  },
  {
   "cell_type": "code",
   "execution_count": null,
   "metadata": {},
   "outputs": [],
   "source": []
  }
 ],
 "metadata": {
  "kernelspec": {
   "display_name": "Python 3",
   "language": "python",
   "name": "python3"
  },
  "language_info": {
   "codemirror_mode": {
    "name": "ipython",
    "version": 3
   },
   "file_extension": ".py",
   "mimetype": "text/x-python",
   "name": "python",
   "nbconvert_exporter": "python",
   "pygments_lexer": "ipython3",
   "version": "3.8.5"
  }
 },
 "nbformat": 4,
 "nbformat_minor": 4
}
