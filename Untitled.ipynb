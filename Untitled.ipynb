{
 "cells": [
  {
   "cell_type": "code",
   "execution_count": 9,
   "metadata": {},
   "outputs": [],
   "source": [
    "import pandas as pd\n",
    "import uuid"
   ]
  },
  {
   "cell_type": "code",
   "execution_count": 10,
   "metadata": {},
   "outputs": [],
   "source": [
    "df = pd.read_csv('generated_queries_paragraphs.csv')"
   ]
  },
  {
   "cell_type": "code",
   "execution_count": 11,
   "metadata": {},
   "outputs": [],
   "source": [
    "ids = []\n",
    "for idx in range(len(df)):\n",
    "    ids.append(str(uuid.uuid4()))\n",
    "df['question_id'] = ids\n"
   ]
  },
  {
   "cell_type": "code",
   "execution_count": 17,
   "metadata": {},
   "outputs": [
    {
     "data": {
      "text/html": [
       "<div>\n",
       "<style scoped>\n",
       "    .dataframe tbody tr th:only-of-type {\n",
       "        vertical-align: middle;\n",
       "    }\n",
       "\n",
       "    .dataframe tbody tr th {\n",
       "        vertical-align: top;\n",
       "    }\n",
       "\n",
       "    .dataframe thead th {\n",
       "        text-align: right;\n",
       "    }\n",
       "</style>\n",
       "<table border=\"1\" class=\"dataframe\">\n",
       "  <thead>\n",
       "    <tr style=\"text-align: right;\">\n",
       "      <th></th>\n",
       "      <th>question</th>\n",
       "      <th>context</th>\n",
       "      <th>question_id</th>\n",
       "    </tr>\n",
       "  </thead>\n",
       "  <tbody>\n",
       "    <tr>\n",
       "      <th>0</th>\n",
       "      <td>what does miti mean?</td>\n",
       "      <td>0 % BOD of the ThOD (28 d) (OECD Guideline 302...</td>\n",
       "      <td>3c242eb2-7e5f-46eb-83e0-c9d846e46449</td>\n",
       "    </tr>\n",
       "    <tr>\n",
       "      <th>1</th>\n",
       "      <td>what is thod inoculum</td>\n",
       "      <td>0 % BOD of the ThOD (28 d) (OECD Guideline 302...</td>\n",
       "      <td>b78a031d-b7df-470b-a2dc-5aa17d1efdc9</td>\n",
       "    </tr>\n",
       "    <tr>\n",
       "      <th>2</th>\n",
       "      <td>what product reacts with humidity</td>\n",
       "      <td>Avoid dust formation. The Cement contained in ...</td>\n",
       "      <td>ec721995-eb9d-405b-aaec-707bb0253b43</td>\n",
       "    </tr>\n",
       "    <tr>\n",
       "      <th>3</th>\n",
       "      <td>does cement react to humidity</td>\n",
       "      <td>Avoid dust formation. The Cement contained in ...</td>\n",
       "      <td>6a15c58a-0623-4847-b44b-a86b78359bfc</td>\n",
       "    </tr>\n",
       "    <tr>\n",
       "      <th>4</th>\n",
       "      <td>what type of rubber is efka® pl 5651</td>\n",
       "      <td>Efka® PL 5651 is a highly compatible plasticiz...</td>\n",
       "      <td>84db1399-7f4b-4492-ae2e-abca799de1fc</td>\n",
       "    </tr>\n",
       "    <tr>\n",
       "      <th>...</th>\n",
       "      <td>...</td>\n",
       "      <td>...</td>\n",
       "      <td>...</td>\n",
       "    </tr>\n",
       "    <tr>\n",
       "      <th>222823</th>\n",
       "      <td>what is the sds gen id for linalool</td>\n",
       "      <td>(30420093/SDS_GEN_ID/EN) Date of print 10.07.2...</td>\n",
       "      <td>f53da98a-5d84-4fa9-bc45-0b487edd686a</td>\n",
       "    </tr>\n",
       "    <tr>\n",
       "      <th>222824</th>\n",
       "      <td>what is the rangle in displaystyle</td>\n",
       "      <td>{\\displaystyle \\langle {\\hat {\\vec {E}}}^{(-)}...</td>\n",
       "      <td>82c36a64-a9b3-4fdd-8be0-452d1fb17ab4</td>\n",
       "    </tr>\n",
       "    <tr>\n",
       "      <th>222825</th>\n",
       "      <td>epsilon how to display</td>\n",
       "      <td>{\\displaystyle \\langle {\\hat {\\vec {E}}}^{(-)}...</td>\n",
       "      <td>d19eba70-e18a-4f82-b1e1-f5058c302097</td>\n",
       "    </tr>\n",
       "    <tr>\n",
       "      <th>222826</th>\n",
       "      <td>where can you find enclosed clothes for gas</td>\n",
       "      <td>Handle in accordance with good industrial hygi...</td>\n",
       "      <td>6de679a1-ef95-4116-b9c9-111d606772b8</td>\n",
       "    </tr>\n",
       "    <tr>\n",
       "      <th>222827</th>\n",
       "      <td>what are the safety precautions</td>\n",
       "      <td>Handle in accordance with good industrial hygi...</td>\n",
       "      <td>e56ea0c7-fc59-4ca9-beb5-8fa8546c39d4</td>\n",
       "    </tr>\n",
       "  </tbody>\n",
       "</table>\n",
       "<p>222828 rows × 3 columns</p>\n",
       "</div>"
      ],
      "text/plain": [
       "                                           question  \\\n",
       "0                              what does miti mean?   \n",
       "1                             what is thod inoculum   \n",
       "2                 what product reacts with humidity   \n",
       "3                     does cement react to humidity   \n",
       "4              what type of rubber is efka® pl 5651   \n",
       "...                                             ...   \n",
       "222823          what is the sds gen id for linalool   \n",
       "222824           what is the rangle in displaystyle   \n",
       "222825                       epsilon how to display   \n",
       "222826  where can you find enclosed clothes for gas   \n",
       "222827              what are the safety precautions   \n",
       "\n",
       "                                                  context  \\\n",
       "0       0 % BOD of the ThOD (28 d) (OECD Guideline 302...   \n",
       "1       0 % BOD of the ThOD (28 d) (OECD Guideline 302...   \n",
       "2       Avoid dust formation. The Cement contained in ...   \n",
       "3       Avoid dust formation. The Cement contained in ...   \n",
       "4       Efka® PL 5651 is a highly compatible plasticiz...   \n",
       "...                                                   ...   \n",
       "222823  (30420093/SDS_GEN_ID/EN) Date of print 10.07.2...   \n",
       "222824  {\\displaystyle \\langle {\\hat {\\vec {E}}}^{(-)}...   \n",
       "222825  {\\displaystyle \\langle {\\hat {\\vec {E}}}^{(-)}...   \n",
       "222826  Handle in accordance with good industrial hygi...   \n",
       "222827  Handle in accordance with good industrial hygi...   \n",
       "\n",
       "                                 question_id  \n",
       "0       3c242eb2-7e5f-46eb-83e0-c9d846e46449  \n",
       "1       b78a031d-b7df-470b-a2dc-5aa17d1efdc9  \n",
       "2       ec721995-eb9d-405b-aaec-707bb0253b43  \n",
       "3       6a15c58a-0623-4847-b44b-a86b78359bfc  \n",
       "4       84db1399-7f4b-4492-ae2e-abca799de1fc  \n",
       "...                                      ...  \n",
       "222823  f53da98a-5d84-4fa9-bc45-0b487edd686a  \n",
       "222824  82c36a64-a9b3-4fdd-8be0-452d1fb17ab4  \n",
       "222825  d19eba70-e18a-4f82-b1e1-f5058c302097  \n",
       "222826  6de679a1-ef95-4116-b9c9-111d606772b8  \n",
       "222827  e56ea0c7-fc59-4ca9-beb5-8fa8546c39d4  \n",
       "\n",
       "[222828 rows x 3 columns]"
      ]
     },
     "execution_count": 17,
     "metadata": {},
     "output_type": "execute_result"
    }
   ],
   "source": [
    "df"
   ]
  },
  {
   "cell_type": "code",
   "execution_count": 16,
   "metadata": {},
   "outputs": [],
   "source": [
    "df[:74000].to_csv('generated_queries_anusha.csv', index=False, encoding='utf-8-sig')\n",
    "df[74000:148000].to_csv('generated_queries_praveena.csv', index=False, encoding='utf-8-sig')\n",
    "df[148000:222000].to_csv('generated_queries_emerson.csv', index=False, encoding='utf-8-sig')"
   ]
  },
  {
   "cell_type": "code",
   "execution_count": 9,
   "metadata": {},
   "outputs": [],
   "source": [
    "df.to_csv('generated_queries_with_id.csv', index=False, encoding='utf-8-sig')"
   ]
  },
  {
   "cell_type": "code",
   "execution_count": 1,
   "metadata": {},
   "outputs": [],
   "source": []
  },
  {
   "cell_type": "code",
   "execution_count": 3,
   "metadata": {},
   "outputs": [],
   "source": [
    "import pymongo\n",
    "import os\n",
    "\n"
   ]
  },
  {
   "cell_type": "code",
   "execution_count": 14,
   "metadata": {},
   "outputs": [],
   "source": [
    "class MongoAnnotation:\n",
    "    def __init__(self, credentials, mongo_config):\n",
    "        self.get_mongo_client(mongo_config, credentials)\n",
    "        \n",
    "    def get_mongo_client(self, config, credentials):\n",
    "        mongo_collection = None\n",
    "        mongo_client = pymongo.MongoClient(config['mongo_connect_url'].format(credentials['mongo_username'], \n",
    "                                                                        credentials['mongo_password'], \n",
    "                                                                              config['mongo_db']))\n",
    "        mongo_db = mongo_client[config['mongo_db']]\n",
    "        mongo_collection = mongo_db[config['mongo_collection']]\n",
    "        try:\n",
    "            mongo_client = pymongo.MongoClient(config['mongo_connect_url'].format(credentials['mongo_username'], credentials['mongo_password'], config['mongo_db']))\n",
    "            mongo_db = mongo_client[config['mongo_db']]\n",
    "            mongo_collection = mongo_db[config['mongo_collection']]\n",
    "            print('connected...')\n",
    "        except:\n",
    "            print('erorr.')\n",
    "\n",
    "        self.mongo_collection = mongo_collection\n",
    "    \n",
    "    def write_to_mongo(self, data):\n",
    "        \"\"\"\"\n",
    "        dump content to mongo\n",
    "        \"\"\"\n",
    "        response = None\n",
    "        try:\n",
    "            response = self.mongo_collection.insert_one(data)\n",
    "            print('des inserted...')\n",
    "            print(str(response.inserted_id))\n",
    "        except Exception as e:\n",
    "            print(e)\n",
    "        return response\n",
    "\n"
   ]
  },
  {
   "cell_type": "code",
   "execution_count": 15,
   "metadata": {},
   "outputs": [],
   "source": [
    "## mongo credentials from environment variables\n",
    "credentials = {\n",
    "'mongo_username': os.environ['MONGO_USERNAME'],\n",
    "'mongo_password': os.environ['MONGO_PASSWORD']\n",
    "}\n",
    "\n",
    "mongo_db_config = {\n",
    "\"mongo_connect_url\": \"mongodb+srv://{}:{}@cluster0.lhdpw.mongodb.net/{}?retryWrites=true&w=majority\",\n",
    "\"mongo_db\": \"chemical_domain_annotations\",\n",
    "\"mongo_collection\": \"chemical_domain_annotations\"\n",
    "}"
   ]
  },
  {
   "cell_type": "code",
   "execution_count": 17,
   "metadata": {},
   "outputs": [
    {
     "name": "stdout",
     "output_type": "stream",
     "text": [
      "connected...\n"
     ]
    }
   ],
   "source": [
    "mongo_annotation_manager = MongoAnnotation(credentials, mongo_db_config)"
   ]
  },
  {
   "cell_type": "code",
   "execution_count": 20,
   "metadata": {},
   "outputs": [
    {
     "name": "stdout",
     "output_type": "stream",
     "text": [
      "des inserted...\n",
      "28885a88-9174-49f0-befd-045be1fbd0fe\n",
      "des inserted...\n",
      "871e0936-7a76-46c0-bd36-6f999d5f48b2\n"
     ]
    }
   ],
   "source": [
    "for x in [\n",
    "  {\n",
    "    \"_id\": \"28885a88-9174-49f0-befd-045be1fbd0fe\",\n",
    "    \"question\": \"what are the ureas?\",\n",
    "    \"context\": \"R2NC(O)N(H)R' + R\\\"NCO   →  R2NC(O)NR'C(O)NHR\\\"Unsymmetrical ureas are generated by condensation of isocyanates with amines:\",\n",
    "    \"annotator\": \"Shahrukh Khan\"\n",
    "  },\n",
    "  {\n",
    "    \"_id\": \"871e0936-7a76-46c0-bd36-6f999d5f48b2\",\n",
    "    \"question\": \"unsymmetrical ureas are generated by condensation of\",\n",
    "    \"context\": \"R2NC(O)N(H)R' + R\\\"NCO   →  R2NC(O)NR'C(O)NHR\\\"Unsymmetrical ureas are generated by condensation of isocyanates with amines:\",\n",
    "    \"annotator\": \"Shahrukh Khan\"\n",
    "  }\n",
    "]:\n",
    "    mongo_annotation_manager.write_to_mongo(x)"
   ]
  },
  {
   "cell_type": "code",
   "execution_count": null,
   "metadata": {},
   "outputs": [],
   "source": []
  }
 ],
 "metadata": {
  "kernelspec": {
   "display_name": "Python 3",
   "language": "python",
   "name": "python3"
  },
  "language_info": {
   "codemirror_mode": {
    "name": "ipython",
    "version": 3
   },
   "file_extension": ".py",
   "mimetype": "text/x-python",
   "name": "python",
   "nbconvert_exporter": "python",
   "pygments_lexer": "ipython3",
   "version": "3.8.5"
  }
 },
 "nbformat": 4,
 "nbformat_minor": 4
}
